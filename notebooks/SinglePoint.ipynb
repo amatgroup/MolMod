{
 "cells": [
  {
   "cell_type": "markdown",
   "metadata": {},
   "source": [
    "Here is a sample script to do single point calculations in Gaussian on a remote machine"
   ]
  },
  {
   "cell_type": "code",
   "execution_count": 2,
   "metadata": {
    "collapsed": false
   },
   "outputs": [],
   "source": [
    "from BasicTools import *\n",
    "from SSHTools import *\n",
    "from MolMod import *\n",
    "mm = MolMod()\n",
    "mm.ssh = SSHTools()"
   ]
  },
  {
   "cell_type": "code",
   "execution_count": 3,
   "metadata": {
    "collapsed": false
   },
   "outputs": [],
   "source": [
    "# Setup SSH parameters\n",
    "mm.ssh.setup(\"skoltech\")"
   ]
  },
  {
   "cell_type": "code",
   "execution_count": 4,
   "metadata": {
    "collapsed": false
   },
   "outputs": [],
   "source": [
    "# Set filename and tag\n",
    "fn0=\"C4H5N_B3LYPp2\"\n",
    "tag=\"_sp\"\n",
    "fn=fn0+tag"
   ]
  },
  {
   "cell_type": "code",
   "execution_count": 5,
   "metadata": {
    "collapsed": false
   },
   "outputs": [],
   "source": [
    "# Read geometry\n",
    "Atoms=mm.ReadXYZ(fn0+\".xyz\")"
   ]
  },
  {
   "cell_type": "code",
   "execution_count": 6,
   "metadata": {
    "collapsed": false
   },
   "outputs": [
    {
     "name": "stdout",
     "output_type": "stream",
     "text": [
      "%rwf=C4H5N_B3LYPp2_sp.rwf\n",
      "# B3LYP 6-31g\n",
      "\n",
      "\n",
      "0 1\n",
      "N  0.000000 0.000000 1.129821\n",
      "C  0.000000 1.134023 0.331510\n",
      "C  0.000000 -1.134023 0.331510\n",
      "C  0.000000 0.715801 -0.986182\n",
      "C  0.000000 -0.715801 -0.986182\n",
      "H  0.000000 0.000000 2.135863\n",
      "H  0.000000 2.123537 0.759189\n",
      "H  0.000000 -2.123537 0.759189\n",
      "H  0.000000 1.358615 -1.853466\n",
      "H  0.000000 -1.358615 -1.853466\n",
      "\n",
      "\n",
      "\n"
     ]
    },
    {
     "data": {
      "text/plain": [
       "0"
      ]
     },
     "execution_count": 6,
     "metadata": {},
     "output_type": "execute_result"
    }
   ],
   "source": [
    "mm.WriteInput(fn+\".gau\",Atoms,keyline=\"B3LYP 6-31g\",output=[\"rwf\"],printout=True)"
   ]
  },
  {
   "cell_type": "code",
   "execution_count": 7,
   "metadata": {
    "collapsed": false
   },
   "outputs": [
    {
     "name": "stdout",
     "output_type": "stream",
     "text": [
      "qsub gaussian/_pbs -l nodes=1:ppn=4 -N C4H5N_B3LYPp2_sp\n"
     ]
    },
    {
     "data": {
      "text/plain": [
       "0"
      ]
     },
     "execution_count": 7,
     "metadata": {},
     "output_type": "execute_result"
    }
   ],
   "source": [
    "# SubmitJob\n",
    "mm.SubmitJob(fn+\".gau\",ppn=4,mem=4*3,printout=True,overwrite=True)"
   ]
  },
  {
   "cell_type": "code",
   "execution_count": 8,
   "metadata": {
    "collapsed": false
   },
   "outputs": [
    {
     "name": "stdout",
     "output_type": "stream",
     "text": [
      "command: qstat -u Andriy.Zhugayevych\n",
      "output:\n",
      "\n",
      "mgmt.skoltech.ru:\n",
      "                                                                                  Req'd       Req'd       Elap\n",
      "Job ID                  Username    Queue    Jobname          SessID  NDS   TSK   Memory      Time    S   Time\n",
      "----------------------- ----------- -------- ---------------- ------ ----- ------ --------- --------- - ---------\n",
      "90423.mgmt.skoltech.ru  Andriy.Zhug batch    ethylene_molec_C  12387     1     16    3000mb  72:00:00 R  35:14:51\n"
     ]
    }
   ],
   "source": [
    "# Check job\n",
    "mm.ssh.qstat()"
   ]
  },
  {
   "cell_type": "code",
   "execution_count": null,
   "metadata": {
    "collapsed": true
   },
   "outputs": [],
   "source": [
    "# Delete job if needed\n",
    "#mm.ssh.run(\"qdel 990156\")"
   ]
  },
  {
   "cell_type": "code",
   "execution_count": 9,
   "metadata": {
    "collapsed": false
   },
   "outputs": [
    {
     "name": "stdout",
     "output_type": "stream",
     "text": [
      "C4H5N_B3LYPp2_sp.evl\n",
      "gaussian/C4H5N_B3LYPp2_sp.evl\n",
      "bin/readdump gaussian/C4H5N_B3LYPp2_sp.rwf gaussian/C4H5N_B3LYPp2_sp.evl evl\n",
      "C4H5N_B3LYPp2_sp.evc\n",
      "gaussian/C4H5N_B3LYPp2_sp.evc\n",
      "bin/readdump gaussian/C4H5N_B3LYPp2_sp.rwf gaussian/C4H5N_B3LYPp2_sp.evc evc\n",
      "C4H5N_B3LYPp2_sp.s1e\n",
      "gaussian/C4H5N_B3LYPp2_sp.s1e\n",
      "bin/readdump gaussian/C4H5N_B3LYPp2_sp.rwf gaussian/C4H5N_B3LYPp2_sp.s1e s1e\n"
     ]
    },
    {
     "data": {
      "text/plain": [
       "0"
      ]
     },
     "execution_count": 9,
     "metadata": {},
     "output_type": "execute_result"
    }
   ],
   "source": [
    "# Download job\n",
    "mm.DownloadJob(fn,binout=[\"evl\",\"evc\",\"s1e\"])"
   ]
  },
  {
   "cell_type": "code",
   "execution_count": null,
   "metadata": {
    "collapsed": true
   },
   "outputs": [],
   "source": []
  }
 ],
 "metadata": {
  "anaconda-cloud": {},
  "kernelspec": {
   "display_name": "Python [Root]",
   "language": "python",
   "name": "Python [Root]"
  },
  "language_info": {
   "codemirror_mode": {
    "name": "ipython",
    "version": 3
   },
   "file_extension": ".py",
   "mimetype": "text/x-python",
   "name": "python",
   "nbconvert_exporter": "python",
   "pygments_lexer": "ipython3",
   "version": "3.5.2"
  }
 },
 "nbformat": 4,
 "nbformat_minor": 0
}
