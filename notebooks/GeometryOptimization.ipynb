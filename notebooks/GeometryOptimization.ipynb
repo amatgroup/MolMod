{
 "cells": [
  {
   "cell_type": "markdown",
   "metadata": {},
   "source": [
    "Here is a sample script to do geometry optimization in Gaussian on a remote machine"
   ]
  },
  {
   "cell_type": "code",
   "execution_count": 1,
   "metadata": {},
   "outputs": [],
   "source": [
    "from molmod.BasicTools import *\n",
    "from molmod.SSHTools import *\n",
    "from molmod.MolMod import *\n",
    "mm=MolMod()\n",
    "mm.ssh=SSHTools()"
   ]
  },
  {
   "cell_type": "code",
   "execution_count": 2,
   "metadata": {},
   "outputs": [],
   "source": [
    "# Setup SSH parameters\n",
    "mm.ssh.setup(\"skoltech\")"
   ]
  },
  {
   "cell_type": "code",
   "execution_count": 3,
   "metadata": {},
   "outputs": [],
   "source": [
    "# Set molecule name and method tag\n",
    "mol=\"C4H5N\"     # pyrrole\n",
    "tag=\"_B3LYPp2\"  # B3LYP/6-31g (p2 = double-zeta Pople basis set)\n",
    "fn=mol+tag"
   ]
  },
  {
   "cell_type": "code",
   "execution_count": 4,
   "metadata": {},
   "outputs": [],
   "source": [
    "# Read initial geometry\n",
    "Atoms=mm.ReadXYZ(mol+\"_exp.xyz\")"
   ]
  },
  {
   "cell_type": "code",
   "execution_count": 5,
   "metadata": {},
   "outputs": [
    {
     "name": "stdout",
     "output_type": "stream",
     "text": [
      "#T B3LYP 6-31g opt\n",
      "\n",
      "\n",
      "0 1\n",
      "N  1.121800 0.000000 0.000000\n",
      "C  0.334100 1.120900 0.000000\n",
      "C  0.334100 -1.120900 0.000000\n",
      "C  -0.984700 0.707600 0.000000\n",
      "C  -0.984700 -0.707600 0.000000\n",
      "H  2.117800 0.000000 0.000000\n",
      "H  0.761400 2.108400 0.000000\n",
      "H  0.761400 -2.108400 0.000000\n",
      "H  -1.842900 1.356600 0.000000\n",
      "H  -1.842900 -1.356600 0.000000\n",
      "\n",
      "\n",
      "\n"
     ]
    },
    {
     "data": {
      "text/plain": [
       "0"
      ]
     },
     "execution_count": 5,
     "metadata": {},
     "output_type": "execute_result"
    }
   ],
   "source": [
    "mm.WriteInput(fn+\".gau\",Atoms,keyline=\"B3LYP 6-31g opt\",output=[\"T\"],printout=True)"
   ]
  },
  {
   "cell_type": "code",
   "execution_count": 6,
   "metadata": {},
   "outputs": [
    {
     "name": "stdout",
     "output_type": "stream",
     "text": [
      "qsub gaussian/_pbs -l nodes=1:ppn=4 -N C4H5N_B3LYPp2\n"
     ]
    },
    {
     "data": {
      "text/plain": [
       "0"
      ]
     },
     "execution_count": 6,
     "metadata": {},
     "output_type": "execute_result"
    }
   ],
   "source": [
    "# SubmitJob\n",
    "mm.SubmitJob(fn+\".gau\",ppn=4,mem=4*3,printout=True,overwrite=True)"
   ]
  },
  {
   "cell_type": "code",
   "execution_count": 7,
   "metadata": {},
   "outputs": [
    {
     "name": "stdout",
     "output_type": "stream",
     "text": [
      "command: qstat -u Andriy.Zhugayevych\n",
      "output:\n",
      "\n",
      "mgmt.skoltech.ru:\n",
      "                                                                                  Req'd       Req'd       Elap\n",
      "Job ID                  Username    Queue    Jobname          SessID  NDS   TSK   Memory      Time    S   Time\n",
      "----------------------- ----------- -------- ---------------- ------ ----- ------ --------- --------- - ---------\n",
      "1909465.mgmt.skoltech.  Andriy.Zhug batch    OPV3_cryst-d_PBE  28319     1     16    3400mb  72:00:00 C       --\n",
      "1912142.mgmt.skoltech.  Andriy.Zhug batch    OPV3_molec_MP2p2  29333     1     16    3400mb  96:00:00 R  01:45:57\n",
      "1912959.mgmt.skoltech.  Andriy.Zhug batch    C4H5N_B3LYPp2       --      1      4    3400mb  96:00:00 Q       --\n"
     ]
    }
   ],
   "source": [
    "# Check job\n",
    "mm.ssh.qstat()"
   ]
  },
  {
   "cell_type": "code",
   "execution_count": null,
   "metadata": {
    "collapsed": true
   },
   "outputs": [],
   "source": [
    "# Delete job if needed\n",
    "#mm.ssh.run(\"qdel 990156\")"
   ]
  },
  {
   "cell_type": "code",
   "execution_count": 8,
   "metadata": {},
   "outputs": [
    {
     "data": {
      "text/plain": [
       "0"
      ]
     },
     "execution_count": 8,
     "metadata": {},
     "output_type": "execute_result"
    }
   ],
   "source": [
    "# Download job\n",
    "mm.DownloadJob(fn)"
   ]
  },
  {
   "cell_type": "code",
   "execution_count": 9,
   "metadata": {},
   "outputs": [
    {
     "name": "stdout",
     "output_type": "stream",
     "text": [
      "[['N', array([0.      , 0.      , 1.129845])], ['C', array([0.      , 1.134027, 0.331508])], ['C', array([-0.      , -1.134027,  0.331508])], ['C', array([ 0.      ,  0.715786, -0.986193])], ['C', array([-0.      , -0.715786, -0.986193])], ['H', array([0.      , 0.      , 2.135892])], ['H', array([0.      , 2.123532, 0.759183])], ['H', array([-0.      , -2.123532,  0.759183])], ['H', array([ 0.      ,  1.358587, -1.853473])], ['H', array([-0.      , -1.358587, -1.853473])]]\n"
     ]
    }
   ],
   "source": [
    "# Extract optimized geometry\n",
    "Atoms1=mm.ReadAtoms(fn+\".out\")\n",
    "print(Atoms1)"
   ]
  },
  {
   "cell_type": "code",
   "execution_count": 10,
   "metadata": {},
   "outputs": [],
   "source": [
    "# Save it in xyz-file\n",
    "mm.WriteXYZ(fn+\".xyz\",Atoms1)"
   ]
  },
  {
   "cell_type": "code",
   "execution_count": null,
   "metadata": {
    "collapsed": true
   },
   "outputs": [],
   "source": []
  }
 ],
 "metadata": {
  "anaconda-cloud": {},
  "kernelspec": {
   "display_name": "Python 3",
   "language": "python",
   "name": "python3"
  },
  "language_info": {
   "codemirror_mode": {
    "name": "ipython",
    "version": 3
   },
   "file_extension": ".py",
   "mimetype": "text/x-python",
   "name": "python",
   "nbconvert_exporter": "python",
   "pygments_lexer": "ipython3",
   "version": "3.7.0"
  }
 },
 "nbformat": 4,
 "nbformat_minor": 1
}
