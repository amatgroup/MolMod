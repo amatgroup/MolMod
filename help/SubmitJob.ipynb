{
 "cells": [
  {
   "cell_type": "markdown",
   "metadata": {},
   "source": [
    "This notebook is for testing <strong>SubmitJob</strong> and <strong>DownloadJob</strong> routines"
   ]
  },
  {
   "cell_type": "code",
   "execution_count": 1,
   "metadata": {},
   "outputs": [],
   "source": [
    "from molmod.SSHTools import *\n",
    "from molmod.MolMod import *\n",
    "mm=MolMod()\n",
    "mm.ssh=SSHTools()"
   ]
  },
  {
   "cell_type": "code",
   "execution_count": 2,
   "metadata": {},
   "outputs": [],
   "source": [
    "# Setup SSH parameters\n",
    "user=\"Andriy.Zhugayevych\"\n",
    "#user=\"Sergey.Matveev\"\n",
    "mm.ssh.setup(user=\"Andriy.Zhugayevych\",host=\"pardus.skoltech.ru\",pkey=\"C:/Users/azh/Sys/Internet/SSH/skoltech/key2.ppk\")\n",
    "#mm.ssh.setup(user=\"matseralex\", host=\"nano.lanl.gov\", pkey=\"/home/matseralex/.ssh/id_rsa\")\n",
    "#mm.ssh.setup(user=\"Sergey.Matveev\",host=\"cluster.skoltech.ru\",pkey=\"/home/smatveev/.ssh/T1700\")"
   ]
  },
  {
   "cell_type": "code",
   "execution_count": 3,
   "metadata": {},
   "outputs": [],
   "source": [
    "# Block a node or delete a job\n",
    "#mm.ssh.run(\"qsub bin/infloop.pbs -l nodes=compute-0-25:ppn=8\");\n",
    "#mm.ssh.run(\"qdel 990167\");"
   ]
  },
  {
   "cell_type": "code",
   "execution_count": 3,
   "metadata": {},
   "outputs": [
    {
     "name": "stdout",
     "output_type": "stream",
     "text": [
      "qsub gaussian/_pbs -l nodes=1:ppn=2 -N test\n"
     ]
    },
    {
     "data": {
      "text/plain": [
       "0"
      ]
     },
     "execution_count": 3,
     "metadata": {},
     "output_type": "execute_result"
    }
   ],
   "source": [
    "mm.SubmitJob(\"files/test.gau\",ppn=2,mem=5,test=False,printout=True)"
   ]
  },
  {
   "cell_type": "code",
   "execution_count": 5,
   "metadata": {},
   "outputs": [
    {
     "name": "stdout",
     "output_type": "stream",
     "text": [
      "mgmt.skoltech.ru: \n",
      "                                                                                  Req'd       Req'd       Elap\n",
      "Job ID                  Username    Queue    Jobname          SessID  NDS   TSK   Memory      Time    S   Time\n",
      "----------------------- ----------- -------- ---------------- ------ ----- ------ --------- --------- - ---------\n",
      "1909465.mgmt.skoltech.  Andriy.Zhug batch    OPV3_cryst-d_PBE  28319     1     16    3400mb  72:00:00 R  07:53:46\n",
      "1912142.mgmt.skoltech.  Andriy.Zhug batch    OPV3_molec_MP2p2  29333     1     16    3400mb  96:00:00 R  01:40:05\n",
      "1912914.mgmt.skoltech.  Andriy.Zhug batch    test              31052     1      2    3400mb  96:00:00 C       --\n"
     ]
    }
   ],
   "source": [
    "print(mm.ssh.run(\"qstat -u \"+user))"
   ]
  },
  {
   "cell_type": "code",
   "execution_count": 7,
   "metadata": {},
   "outputs": [
    {
     "name": "stdout",
     "output_type": "stream",
     "text": [
      "done out\n",
      "test.evl\n",
      "gaussian/test.evl\n",
      "bin/readdump gaussian/test.rwf gaussian/test.evl evl\n",
      "done evl\n"
     ]
    },
    {
     "data": {
      "text/plain": [
       "0"
      ]
     },
     "execution_count": 7,
     "metadata": {},
     "output_type": "execute_result"
    }
   ],
   "source": [
    "mm.DownloadJob(\"test\",binout=[\"evl\"],printout=True,overwrite=True)"
   ]
  }
 ],
 "metadata": {
  "anaconda-cloud": {},
  "kernelspec": {
   "display_name": "Python 3",
   "language": "python",
   "name": "python3"
  },
  "language_info": {
   "codemirror_mode": {
    "name": "ipython",
    "version": 3
   },
   "file_extension": ".py",
   "mimetype": "text/x-python",
   "name": "python",
   "nbconvert_exporter": "python",
   "pygments_lexer": "ipython3",
   "version": "3.7.0"
  }
 },
 "nbformat": 4,
 "nbformat_minor": 1
}
