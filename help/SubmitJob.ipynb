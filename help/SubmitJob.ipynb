{
 "cells": [
  {
   "cell_type": "markdown",
   "metadata": {},
   "source": [
    "This notebook is for testing <strong>SubmitJob</strong> and <strong>DownloadJob</strong> routines"
   ]
  },
  {
   "cell_type": "code",
   "execution_count": 1,
   "metadata": {},
   "outputs": [],
   "source": [
    "from MolMod.SSHTools import *\n",
    "from MolMod.MolMod import *\n",
    "mm=MolMod()\n",
    "mm.ssh=SSHTools()"
   ]
  },
  {
   "cell_type": "code",
   "execution_count": 2,
   "metadata": {},
   "outputs": [],
   "source": [
    "# Setup SSH parameters\n",
    "mm.ssh.setup(\"pardus\")"
   ]
  },
  {
   "cell_type": "code",
   "execution_count": 3,
   "metadata": {},
   "outputs": [],
   "source": [
    "# Block a node or delete a job\n",
    "#mm.ssh.run(\"qsub bin/infloop.pbs -l nodes=compute-0-25:ppn=8\");\n",
    "#mm.ssh.run(\"qdel 990167\");"
   ]
  },
  {
   "cell_type": "code",
   "execution_count": 4,
   "metadata": {},
   "outputs": [
    {
     "name": "stdout",
     "output_type": "stream",
     "text": [
      "correcting memory request in input file\n",
      "qsub gaussian/_pbs -N test -l nodes=1:ppn=2,mem=5gb,walltime=1:00:00\n"
     ]
    },
    {
     "data": {
      "text/plain": [
       "0"
      ]
     },
     "execution_count": 4,
     "metadata": {},
     "output_type": "execute_result"
    }
   ],
   "source": [
    "mm.SubmitJob(\"files/test.gau\",ppn=2,mem=5,test=False,printout=True)"
   ]
  },
  {
   "cell_type": "code",
   "execution_count": 5,
   "metadata": {},
   "outputs": [
    {
     "name": "stdout",
     "output_type": "stream",
     "text": [
      "command: qstat -u Andriy.Zhugayevych\n",
      "output:\n",
      "\n",
      "mgmt.skoltech.ru:\n",
      "                                                                                  Req'd       Req'd       Elap\n",
      "Job ID                  Username    Queue    Jobname          SessID  NDS   TSK   Memory      Time    S   Time\n",
      "----------------------- ----------- -------- ---------------- ------ ----- ------ --------- --------- - ---------\n",
      "3545223.mgmt.skoltech.  Andriy.Zhug batch    test              22501     1      2    3400mb  01:00:00 C       --\n"
     ]
    }
   ],
   "source": [
    "mm.ssh.qstat()"
   ]
  },
  {
   "cell_type": "code",
   "execution_count": 6,
   "metadata": {},
   "outputs": [
    {
     "name": "stdout",
     "output_type": "stream",
     "text": [
      "done out\n",
      "test.evl\n",
      "gaussian/test.evl\n",
      "bin/readdump gaussian/test.rwf gaussian/test.evl evl\n",
      "done evl\n"
     ]
    },
    {
     "data": {
      "text/plain": [
       "0"
      ]
     },
     "execution_count": 6,
     "metadata": {},
     "output_type": "execute_result"
    }
   ],
   "source": [
    "mm.DownloadJob(\"test\",binout=[\"evl\"],printout=True,overwrite=True)"
   ]
  },
  {
   "cell_type": "code",
   "execution_count": null,
   "metadata": {},
   "outputs": [],
   "source": []
  }
 ],
 "metadata": {
  "anaconda-cloud": {},
  "kernelspec": {
   "display_name": "Python 3",
   "language": "python",
   "name": "python3"
  },
  "language_info": {
   "codemirror_mode": {
    "name": "ipython",
    "version": 3
   },
   "file_extension": ".py",
   "mimetype": "text/x-python",
   "name": "python",
   "nbconvert_exporter": "python",
   "pygments_lexer": "ipython3",
   "version": "3.7.3"
  }
 },
 "nbformat": 4,
 "nbformat_minor": 1
}
