{
 "cells": [
  {
   "cell_type": "markdown",
   "metadata": {},
   "source": [
    "This notebook is for testing <strong>SubmitJob</strong> and <strong>DownloadJob</strong> routines"
   ]
  },
  {
   "cell_type": "code",
   "execution_count": 1,
   "metadata": {
    "collapsed": true
   },
   "outputs": [],
   "source": [
    "import sys\n",
    "sys.path.append('../SSHTools'); from SSHTools import *\n",
    "from MolMod import *\n",
    "mm=MolMod()\n",
    "mm.ssh=SSHTools()"
   ]
  },
  {
   "cell_type": "code",
   "execution_count": 5,
   "metadata": {
    "collapsed": false
   },
   "outputs": [],
   "source": [
    "# Setup SSH parameters\n",
    "user=\"Andriy.Zhugayevych\"\n",
    "#user=\"Sergey.Matveev\"\n",
    "mm.ssh.setup(user=\"Andriy.Zhugayevych\",host=\"cluster.skoltech.ru\",pkey=\"C:/Users/azh/Sys/Internet/SSH/skoltech/key2.ppk\")\n",
    "#mm.ssh.setup(user=\"matseralex\", host=\"nano.lanl.gov\", pkey=\"/home/matseralex/.ssh/id_rsa\")\n",
    "#mm.ssh.setup(user=\"Sergey.Matveev\",host=\"cluster.skoltech.ru\",pkey=\"/home/smatveev/.ssh/T1700\")"
   ]
  },
  {
   "cell_type": "code",
   "execution_count": 3,
   "metadata": {
    "collapsed": false
   },
   "outputs": [],
   "source": [
    "# Block a node or delete a job\n",
    "#mm.ssh.run(\"qsub bin/infloop.pbs -l nodes=compute-0-25:ppn=8\");\n",
    "#mm.ssh.run(\"qdel 990167\");"
   ]
  },
  {
   "cell_type": "code",
   "execution_count": 4,
   "metadata": {
    "collapsed": false
   },
   "outputs": [
    {
     "name": "stdout",
     "output_type": "stream",
     "text": [
      "qsub gaussian/_pbs -l nodes=1:ppn=2 -N test\n"
     ]
    },
    {
     "data": {
      "text/plain": [
       "0"
      ]
     },
     "execution_count": 4,
     "metadata": {},
     "output_type": "execute_result"
    }
   ],
   "source": [
    "mm.SubmitJob(\"test/test.gau\",ppn=2,mem=5,test=False,printout=True)"
   ]
  },
  {
   "cell_type": "code",
   "execution_count": 6,
   "metadata": {
    "collapsed": false
   },
   "outputs": [
    {
     "name": "stdout",
     "output_type": "stream",
     "text": [
      "mgmt.skoltech.ru: \n",
      "                                                                                  Req'd       Req'd       Elap\n",
      "Job ID                  Username    Queue    Jobname          SessID  NDS   TSK   Memory      Time    S   Time\n",
      "----------------------- ----------- -------- ---------------- ------ ----- ------ --------- --------- - ---------\n",
      "52911.mgmt.skoltech.ru  Andriy.Zhug batch    C35H36_molec_P_B  19570     1      8    3000mb  96:00:00 R  19:21:35\n",
      "52912.mgmt.skoltech.ru  Andriy.Zhug batch    C35H36_molec_N_B  10560     1      8    3000mb  96:00:00 R  19:21:03\n",
      "52926.mgmt.skoltech.ru  Andriy.Zhug batch    Si35H36_molec_N_  10758     1      8    3000mb  96:00:00 R  19:17:19\n",
      "54923.mgmt.skoltech.ru  Andriy.Zhug batch    Si35H36_molec_P_  11162     1      8    3000mb  96:00:00 R  04:40:15\n",
      "54927.mgmt.skoltech.ru  Andriy.Zhug batch    Si35H36_molec_N_  12089     1      8    3000mb  96:00:00 R  04:31:43\n",
      "54932.mgmt.skoltech.ru  Andriy.Zhug batch    Si35H36_molec_P_   6390     1      8    3000mb  96:00:00 R  04:19:37\n",
      "54945.mgmt.skoltech.ru  Andriy.Zhug batch    C35H36_molec_P_C  12425     1      8    3000mb  96:00:00 R  04:02:30\n",
      "55171.mgmt.skoltech.ru  Andriy.Zhug batch    test              29976     1      2    3800mb  96:00:00 R  00:00:06\n"
     ]
    }
   ],
   "source": [
    "print(mm.ssh.run(\"qstat -u \"+user))"
   ]
  },
  {
   "cell_type": "code",
   "execution_count": 7,
   "metadata": {
    "collapsed": false
   },
   "outputs": [
    {
     "name": "stdout",
     "output_type": "stream",
     "text": [
      "done out\n",
      "test.evl\n",
      "gaussian/test.evl\n",
      "bin/readdump gaussian/test.rwf gaussian/test.evl evl\n",
      "done evl\n"
     ]
    },
    {
     "data": {
      "text/plain": [
       "0"
      ]
     },
     "execution_count": 7,
     "metadata": {},
     "output_type": "execute_result"
    }
   ],
   "source": [
    "mm.DownloadJob(\"test\",binout=[\"evl\"],printout=True,overwrite=True)"
   ]
  }
 ],
 "metadata": {
  "anaconda-cloud": {},
  "kernelspec": {
   "display_name": "Python [Root]",
   "language": "python",
   "name": "Python [Root]"
  },
  "language_info": {
   "codemirror_mode": {
    "name": "ipython",
    "version": 3
   },
   "file_extension": ".py",
   "mimetype": "text/x-python",
   "name": "python",
   "nbconvert_exporter": "python",
   "pygments_lexer": "ipython3",
   "version": "3.5.2"
  }
 },
 "nbformat": 4,
 "nbformat_minor": 0
}
