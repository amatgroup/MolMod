{
 "cells": [
  {
   "cell_type": "code",
   "execution_count": null,
   "metadata": {},
   "outputs": [],
   "source": [
    "import molmod.SSHTools as xxx\n",
    "ssh=xxx.SSHTools()"
   ]
  },
  {
   "cell_type": "code",
   "execution_count": 1,
   "metadata": {},
   "outputs": [],
   "source": [
    "from molmod.SSHTools import *\n",
    "ssh=SSHTools()"
   ]
  },
  {
   "cell_type": "code",
   "execution_count": 2,
   "metadata": {},
   "outputs": [],
   "source": [
    "# Setup connection parameters (for tunneling use host=\"localhost\")\n",
    "ssh.setup(user=\"Andriy.Zhugayevych\",host=\"pardus.skoltech.ru\",pkey=\"C:/Users/azh/Sys/Internet/SSH/skoltech/key2.ppk\")\n",
    "#ssh.setup(user=\"Sergey.Matveev\",host=\"cluster.skoltech.ru\",pkey=\"/home/smatveev/.ssh/T1700\")\n",
    "#ssh.setup(user='s.matveev',host='83.149.206.202',pkey='/home/sergey/.ssh/id_rsa',port=22)"
   ]
  },
  {
   "cell_type": "code",
   "execution_count": 3,
   "metadata": {},
   "outputs": [
    {
     "name": "stdout",
     "output_type": "stream",
     "text": [
      "command: ls\n",
      "output:\n",
      "bin\n",
      "gaussian\n",
      "intel\n",
      "IT-9756\n",
      "lammps\n",
      "local\n",
      "mopac\n",
      "OPV3_cryst-d_PBE-D3paw900_cg3.e1909465\n",
      "OPV3_molec_B3LYPp2p_em.e1912650\n",
      "OPV3_molec_MP2p2p_freq.e1912142\n",
      "private\n",
      "public\n",
      "scratch\n",
      "tinker\n",
      "vasp\n"
     ]
    },
    {
     "data": {
      "text/plain": [
       "'bin\\ngaussian\\nintel\\nIT-9756\\nlammps\\nlocal\\nmopac\\nOPV3_cryst-d_PBE-D3paw900_cg3.e1909465\\nOPV3_molec_B3LYPp2p_em.e1912650\\nOPV3_molec_MP2p2p_freq.e1912142\\nprivate\\npublic\\nscratch\\ntinker\\nvasp'"
      ]
     },
     "execution_count": 3,
     "metadata": {},
     "output_type": "execute_result"
    }
   ],
   "source": [
    "# Test connection: execute a command on the server\n",
    "ssh.run(\"ls\",printout=True)"
   ]
  },
  {
   "cell_type": "code",
   "execution_count": 4,
   "metadata": {},
   "outputs": [
    {
     "ename": "Warning",
     "evalue": "stderr: ls: cannot access aaaaaa: No such file or directory\n",
     "output_type": "error",
     "traceback": [
      "\u001b[1;31m---------------------------------------------------------------------------\u001b[0m",
      "\u001b[1;31mWarning\u001b[0m                                   Traceback (most recent call last)",
      "\u001b[1;32m<ipython-input-4-31a20e934301>\u001b[0m in \u001b[0;36m<module>\u001b[1;34m()\u001b[0m\n\u001b[1;32m----> 1\u001b[1;33m \u001b[0mssh\u001b[0m\u001b[1;33m.\u001b[0m\u001b[0mrun\u001b[0m\u001b[1;33m(\u001b[0m\u001b[1;34m\"ls aaaaaa\"\u001b[0m\u001b[1;33m)\u001b[0m \u001b[1;31m# deliberately wrong\u001b[0m\u001b[1;33m\u001b[0m\u001b[0m\n\u001b[0m",
      "\u001b[1;32mC:\\Sci\\Anaconda3\\lib\\site-packages\\molmod\\SSHTools.py\u001b[0m in \u001b[0;36mrun\u001b[1;34m(self, command, noerror, printout)\u001b[0m\n\u001b[0;32m     47\u001b[0m         \u001b[1;32mreturn\u001b[0m \u001b[0merr\u001b[0m\u001b[1;33m\u001b[0m\u001b[0m\n\u001b[0;32m     48\u001b[0m       \u001b[1;32melse\u001b[0m\u001b[1;33m:\u001b[0m\u001b[1;33m\u001b[0m\u001b[0m\n\u001b[1;32m---> 49\u001b[1;33m         \u001b[1;32mraise\u001b[0m \u001b[0mWarning\u001b[0m\u001b[1;33m(\u001b[0m\u001b[1;34m\"stderr: \"\u001b[0m\u001b[1;33m+\u001b[0m\u001b[1;34m\"\"\u001b[0m\u001b[1;33m.\u001b[0m\u001b[0mjoin\u001b[0m\u001b[1;33m(\u001b[0m\u001b[0merr\u001b[0m\u001b[1;33m)\u001b[0m\u001b[1;33m)\u001b[0m\u001b[1;33m\u001b[0m\u001b[0m\n\u001b[0m\u001b[0;32m     50\u001b[0m     \u001b[1;32mif\u001b[0m \u001b[0mprintout\u001b[0m\u001b[1;33m:\u001b[0m\u001b[1;33m\u001b[0m\u001b[0m\n\u001b[0;32m     51\u001b[0m       \u001b[1;32mif\u001b[0m \u001b[0mlen\u001b[0m\u001b[1;33m(\u001b[0m\u001b[0mout\u001b[0m\u001b[1;33m)\u001b[0m\u001b[1;33m==\u001b[0m\u001b[1;36m1\u001b[0m\u001b[1;33m:\u001b[0m\u001b[1;33m\u001b[0m\u001b[0m\n",
      "\u001b[1;31mWarning\u001b[0m: stderr: ls: cannot access aaaaaa: No such file or directory\n"
     ]
    }
   ],
   "source": [
    "ssh.run(\"ls aaaaaa\") # deliberately wrong"
   ]
  },
  {
   "cell_type": "code",
   "execution_count": 5,
   "metadata": {},
   "outputs": [
    {
     "data": {
      "text/plain": [
       "['ls: cannot access aaaaaa: No such file or directory\\n']"
      ]
     },
     "execution_count": 5,
     "metadata": {},
     "output_type": "execute_result"
    }
   ],
   "source": [
    "ssh.run(\"ls aaaaaa\",noerror=True)"
   ]
  },
  {
   "cell_type": "code",
   "execution_count": 6,
   "metadata": {},
   "outputs": [
    {
     "data": {
      "text/plain": [
       "0"
      ]
     },
     "execution_count": 6,
     "metadata": {},
     "output_type": "execute_result"
    }
   ],
   "source": [
    "# File upload/download\n",
    "ssh.put(\"files/xyz0.xyz\",\"test_put\")\n",
    "ssh.sget(\"gaussian/_pbs\",\"test/test_sget\")"
   ]
  },
  {
   "cell_type": "code",
   "execution_count": 7,
   "metadata": {},
   "outputs": [
    {
     "data": {
      "text/plain": [
       "''"
      ]
     },
     "execution_count": 7,
     "metadata": {},
     "output_type": "execute_result"
    }
   ],
   "source": [
    "# Remove test file\n",
    "ssh.run(\"rm -f test_put\")"
   ]
  },
  {
   "cell_type": "code",
   "execution_count": 8,
   "metadata": {},
   "outputs": [
    {
     "name": "stdout",
     "output_type": "stream",
     "text": [
      "True\n",
      "False\n"
     ]
    }
   ],
   "source": [
    "print(ssh.fexists('gaussian/_pbs'))\n",
    "print(ssh.fexists('gaussian/_bs'))"
   ]
  }
 ],
 "metadata": {
  "anaconda-cloud": {},
  "kernelspec": {
   "display_name": "Python 3",
   "language": "python",
   "name": "python3"
  },
  "language_info": {
   "codemirror_mode": {
    "name": "ipython",
    "version": 3
   },
   "file_extension": ".py",
   "mimetype": "text/x-python",
   "name": "python",
   "nbconvert_exporter": "python",
   "pygments_lexer": "ipython3",
   "version": "3.7.0"
  }
 },
 "nbformat": 4,
 "nbformat_minor": 1
}
