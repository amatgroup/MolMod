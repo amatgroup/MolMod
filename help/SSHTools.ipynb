{
 "cells": [
  {
   "cell_type": "code",
   "execution_count": 1,
   "metadata": {},
   "outputs": [],
   "source": [
    "from MolMod.SSHTools import *\n",
    "ssh=SSHTools()"
   ]
  },
  {
   "cell_type": "code",
   "execution_count": 2,
   "metadata": {},
   "outputs": [],
   "source": [
    "# Setup connection parameters (for tunneling use host=\"localhost\")\n",
    "ssh.setup(user=\"Andriy.Zhugayevych\",host=\"pardus.skoltech.ru\",ppk=\"C:/Users/azh/Sys/Internet/SSH/pardus/key2.ppk\",pbs=\"MOAB\")\n",
    "ssh.setup(\"pardus\")"
   ]
  },
  {
   "cell_type": "code",
   "execution_count": 3,
   "metadata": {},
   "outputs": [
    {
     "name": "stdout",
     "output_type": "stream",
     "text": [
      "command: ls\n",
      "output:\n",
      "_4sysadmin\n",
      "bin\n",
      "gaussian\n",
      "intel\n",
      "IT-9756\n",
      "lammps\n",
      "local\n",
      "mopac\n",
      "private\n",
      "public\n",
      "scratch\n",
      "test.e3545223\n",
      "tinker\n",
      "vasp\n"
     ]
    },
    {
     "data": {
      "text/plain": [
       "'_4sysadmin\\nbin\\ngaussian\\nintel\\nIT-9756\\nlammps\\nlocal\\nmopac\\nprivate\\npublic\\nscratch\\ntest.e3545223\\ntinker\\nvasp'"
      ]
     },
     "execution_count": 3,
     "metadata": {},
     "output_type": "execute_result"
    }
   ],
   "source": [
    "# Test connection: execute a command on the server\n",
    "ssh.run(\"ls\",printout=True)"
   ]
  },
  {
   "cell_type": "code",
   "execution_count": 4,
   "metadata": {},
   "outputs": [
    {
     "ename": "Warning",
     "evalue": "stderr: ls: cannot access aaaaaa: No such file or directory\n",
     "output_type": "error",
     "traceback": [
      "\u001b[1;31m---------------------------------------------------------------------------\u001b[0m",
      "\u001b[1;31mWarning\u001b[0m                                   Traceback (most recent call last)",
      "\u001b[1;32m<ipython-input-4-31a20e934301>\u001b[0m in \u001b[0;36m<module>\u001b[1;34m\u001b[0m\n\u001b[1;32m----> 1\u001b[1;33m \u001b[0mssh\u001b[0m\u001b[1;33m.\u001b[0m\u001b[0mrun\u001b[0m\u001b[1;33m(\u001b[0m\u001b[1;34m\"ls aaaaaa\"\u001b[0m\u001b[1;33m)\u001b[0m \u001b[1;31m# deliberately wrong\u001b[0m\u001b[1;33m\u001b[0m\u001b[1;33m\u001b[0m\u001b[0m\n\u001b[0m",
      "\u001b[1;32m~\\Sci\\Math\\CompMath\\Python\\MolMod\\MolMod\\SSHTools.py\u001b[0m in \u001b[0;36mrun\u001b[1;34m(self, command, noerror, printout)\u001b[0m\n\u001b[0;32m     60\u001b[0m         \u001b[1;32mreturn\u001b[0m \u001b[0merr\u001b[0m\u001b[1;33m\u001b[0m\u001b[1;33m\u001b[0m\u001b[0m\n\u001b[0;32m     61\u001b[0m       \u001b[1;32melse\u001b[0m\u001b[1;33m:\u001b[0m\u001b[1;33m\u001b[0m\u001b[1;33m\u001b[0m\u001b[0m\n\u001b[1;32m---> 62\u001b[1;33m         \u001b[1;32mraise\u001b[0m \u001b[0mWarning\u001b[0m\u001b[1;33m(\u001b[0m\u001b[1;34m\"stderr: \"\u001b[0m\u001b[1;33m+\u001b[0m\u001b[1;34m\"\"\u001b[0m\u001b[1;33m.\u001b[0m\u001b[0mjoin\u001b[0m\u001b[1;33m(\u001b[0m\u001b[0merr\u001b[0m\u001b[1;33m)\u001b[0m\u001b[1;33m)\u001b[0m\u001b[1;33m\u001b[0m\u001b[1;33m\u001b[0m\u001b[0m\n\u001b[0m\u001b[0;32m     63\u001b[0m     \u001b[1;32mif\u001b[0m \u001b[0mprintout\u001b[0m\u001b[1;33m:\u001b[0m\u001b[1;33m\u001b[0m\u001b[1;33m\u001b[0m\u001b[0m\n\u001b[0;32m     64\u001b[0m       \u001b[1;32mif\u001b[0m \u001b[0mlen\u001b[0m\u001b[1;33m(\u001b[0m\u001b[0mout\u001b[0m\u001b[1;33m)\u001b[0m\u001b[1;33m==\u001b[0m\u001b[1;36m1\u001b[0m\u001b[1;33m:\u001b[0m\u001b[1;33m\u001b[0m\u001b[1;33m\u001b[0m\u001b[0m\n",
      "\u001b[1;31mWarning\u001b[0m: stderr: ls: cannot access aaaaaa: No such file or directory\n"
     ]
    }
   ],
   "source": [
    "ssh.run(\"ls aaaaaa\") # deliberately wrong"
   ]
  },
  {
   "cell_type": "code",
   "execution_count": 5,
   "metadata": {},
   "outputs": [
    {
     "data": {
      "text/plain": [
       "['ls: cannot access aaaaaa: No such file or directory\\n']"
      ]
     },
     "execution_count": 5,
     "metadata": {},
     "output_type": "execute_result"
    }
   ],
   "source": [
    "ssh.run(\"ls aaaaaa\",noerror=True)"
   ]
  },
  {
   "cell_type": "code",
   "execution_count": 6,
   "metadata": {},
   "outputs": [
    {
     "data": {
      "text/plain": [
       "0"
      ]
     },
     "execution_count": 6,
     "metadata": {},
     "output_type": "execute_result"
    }
   ],
   "source": [
    "# File upload/download\n",
    "ssh.put(\"files/xyz0.xyz\",\"test_put\")\n",
    "ssh.sget(\"gaussian/_pbs\",\"test/test_sget\")"
   ]
  },
  {
   "cell_type": "code",
   "execution_count": 7,
   "metadata": {},
   "outputs": [
    {
     "data": {
      "text/plain": [
       "''"
      ]
     },
     "execution_count": 7,
     "metadata": {},
     "output_type": "execute_result"
    }
   ],
   "source": [
    "# Remove test file\n",
    "ssh.run(\"rm -f test_put\")"
   ]
  },
  {
   "cell_type": "code",
   "execution_count": 8,
   "metadata": {},
   "outputs": [
    {
     "name": "stdout",
     "output_type": "stream",
     "text": [
      "True\n",
      "False\n"
     ]
    }
   ],
   "source": [
    "print(ssh.fexists('gaussian/_pbs'))\n",
    "print(ssh.fexists('gaussian/_bs'))"
   ]
  },
  {
   "cell_type": "code",
   "execution_count": null,
   "metadata": {},
   "outputs": [],
   "source": []
  }
 ],
 "metadata": {
  "anaconda-cloud": {},
  "kernelspec": {
   "display_name": "Python 3",
   "language": "python",
   "name": "python3"
  },
  "language_info": {
   "codemirror_mode": {
    "name": "ipython",
    "version": 3
   },
   "file_extension": ".py",
   "mimetype": "text/x-python",
   "name": "python",
   "nbconvert_exporter": "python",
   "pygments_lexer": "ipython3",
   "version": "3.7.3"
  }
 },
 "nbformat": 4,
 "nbformat_minor": 1
}
