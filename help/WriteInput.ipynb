{
 "cells": [
  {
   "cell_type": "markdown",
   "metadata": {},
   "source": [
    "This notebook is for testing <strong>WriteInput</strong> routine"
   ]
  },
  {
   "cell_type": "code",
   "execution_count": 1,
   "metadata": {},
   "outputs": [],
   "source": [
    "from molmod.MolMod import *\n",
    "mm=MolMod()"
   ]
  },
  {
   "cell_type": "code",
   "execution_count": 2,
   "metadata": {},
   "outputs": [],
   "source": [
    "# Read initial geometry\n",
    "Atoms=mm.ReadXYZ(\"files/xyz1.xyz\")"
   ]
  },
  {
   "cell_type": "code",
   "execution_count": 3,
   "metadata": {},
   "outputs": [
    {
     "name": "stdout",
     "output_type": "stream",
     "text": [
      "# B3LYP 6-31g\n",
      "\n",
      "\n",
      "0 1\n",
      "O  0.000000 0.000000 0.000000\n",
      "H  0.000000 0.757000 0.586000\n",
      "H  0.000000 -0.757000 0.586000\n",
      "\n",
      "\n",
      "\n"
     ]
    },
    {
     "data": {
      "text/plain": [
       "0"
      ]
     },
     "execution_count": 3,
     "metadata": {},
     "output_type": "execute_result"
    }
   ],
   "source": [
    "mm.WriteInput(\"files/_tmp.gau\",Atoms,keyline=\"B3LYP 6-31g\",printout=True)"
   ]
  },
  {
   "cell_type": "code",
   "execution_count": 4,
   "metadata": {},
   "outputs": [
    {
     "name": "stdout",
     "output_type": "stream",
     "text": [
      "# B3LYP 6-31g\n",
      "\n",
      "Test\n",
      "\n",
      "-1 2\n",
      "O  0.000000 0.000000 0.000000\n",
      "H  0.000000 0.757000 0.586000\n",
      "H  0.000000 -0.757000 0.586000\n",
      "\n",
      "\n",
      "\n"
     ]
    },
    {
     "data": {
      "text/plain": [
       "0"
      ]
     },
     "execution_count": 4,
     "metadata": {},
     "output_type": "execute_result"
    }
   ],
   "source": [
    "mm.WriteInput(\"files/_tmp.gau\",Atoms,Q=-1,keyline='B3LYP 6-31g',title=\"Test\",printout=True)"
   ]
  },
  {
   "cell_type": "code",
   "execution_count": 5,
   "metadata": {},
   "outputs": [
    {
     "name": "stdout",
     "output_type": "stream",
     "text": [
      "%chk=_tmp.chk\n",
      "#P B3LYP 6-31g\n",
      "\n",
      "Test\n",
      "\n",
      "2 2\n",
      "O  0.000000 0.000000 0.000000\n",
      "H  0.000000 0.757000 0.586000\n",
      "H  0.000000 -0.757000 0.586000\n",
      "\n",
      "\n",
      "\n"
     ]
    },
    {
     "data": {
      "text/plain": [
       "0"
      ]
     },
     "execution_count": 5,
     "metadata": {},
     "output_type": "execute_result"
    }
   ],
   "source": [
    "mm.WriteInput(\"files/_tmp.gau\",Atoms,Q=2,mult=2,keyline='B3LYP 6-31g',title=\"Test\",output=[\"P\",\"chk\"],printout=True)"
   ]
  }
 ],
 "metadata": {
  "anaconda-cloud": {},
  "kernelspec": {
   "display_name": "Python 3",
   "language": "python",
   "name": "python3"
  },
  "language_info": {
   "codemirror_mode": {
    "name": "ipython",
    "version": 3
   },
   "file_extension": ".py",
   "mimetype": "text/x-python",
   "name": "python",
   "nbconvert_exporter": "python",
   "pygments_lexer": "ipython3",
   "version": "3.7.0"
  }
 },
 "nbformat": 4,
 "nbformat_minor": 1
}
