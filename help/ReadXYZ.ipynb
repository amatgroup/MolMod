{
 "cells": [
  {
   "cell_type": "markdown",
   "metadata": {},
   "source": [
    "This notebook is for testing <strong>ReadXYZ</strong> and <strong>WriteXYZ</strong> routines"
   ]
  },
  {
   "cell_type": "code",
   "execution_count": 1,
   "metadata": {},
   "outputs": [],
   "source": [
    "from MolMod.MolMod import *\n",
    "mm=MolMod()"
   ]
  },
  {
   "cell_type": "code",
   "execution_count": 2,
   "metadata": {},
   "outputs": [
    {
     "data": {
      "text/plain": [
       "[['O', array([0., 0., 0.])],\n",
       " ['H', array([0.   , 0.757, 0.586])],\n",
       " ['H', array([ 0.   , -0.757,  0.586])],\n",
       " ['O', array([0., 0., 0.])],\n",
       " ['H', array([0.   , 0.757, 0.586])],\n",
       " ['H', array([ 0.   , -0.757,  0.586])],\n",
       " ['O', array([0., 0., 0.])],\n",
       " ['H', array([0.   , 0.757, 0.586])],\n",
       " ['H', array([ 0.   , -0.757,  0.586])]]"
      ]
     },
     "execution_count": 2,
     "metadata": {},
     "output_type": "execute_result"
    }
   ],
   "source": [
    "mm.ReadXYZ(\"files/xyz0.xyz\") #failed (multiple records)"
   ]
  },
  {
   "cell_type": "code",
   "execution_count": 3,
   "metadata": {},
   "outputs": [
    {
     "data": {
      "text/plain": [
       "[]"
      ]
     },
     "execution_count": 3,
     "metadata": {},
     "output_type": "execute_result"
    }
   ],
   "source": [
    "mm.ReadXYZ(\"files/xyz4.xyz\") #failed"
   ]
  },
  {
   "cell_type": "code",
   "execution_count": 4,
   "metadata": {},
   "outputs": [
    {
     "data": {
      "text/plain": [
       "[['O', array([0., 0., 0.])],\n",
       " ['H', array([0.   , 0.757, 0.586])],\n",
       " ['H', array([ 0.   , -0.757,  0.586])]]"
      ]
     },
     "execution_count": 4,
     "metadata": {},
     "output_type": "execute_result"
    }
   ],
   "source": [
    "mm.ReadXYZ(\"files/xyz1.xyz\") #success"
   ]
  },
  {
   "cell_type": "code",
   "execution_count": 5,
   "metadata": {},
   "outputs": [],
   "source": [
    "x=0.6\n",
    "Atoms=[['C',[0,0,0]],['H',[x,x,x]],['H',[-x,-x,x]],['H',[-x,x,-x]],['H',[x,-x,-x]]]\n",
    "mm.WriteXYZ(\"files/_tmp.xyz\",Atoms,overwrite=True)"
   ]
  },
  {
   "cell_type": "code",
   "execution_count": 6,
   "metadata": {},
   "outputs": [
    {
     "ename": "Warning",
     "evalue": "File exists: files/_tmp.xyz",
     "output_type": "error",
     "traceback": [
      "\u001b[1;31m---------------------------------------------------------------------------\u001b[0m",
      "\u001b[1;31mWarning\u001b[0m                                   Traceback (most recent call last)",
      "\u001b[1;32m<ipython-input-6-1cbf56b596b5>\u001b[0m in \u001b[0;36m<module>\u001b[1;34m\u001b[0m\n\u001b[1;32m----> 1\u001b[1;33m \u001b[0mmm\u001b[0m\u001b[1;33m.\u001b[0m\u001b[0mWriteXYZ\u001b[0m\u001b[1;33m(\u001b[0m\u001b[1;34m\"files/_tmp.xyz\"\u001b[0m\u001b[1;33m,\u001b[0m\u001b[0mAtoms\u001b[0m\u001b[1;33m)\u001b[0m \u001b[1;31m# Deliberately wrong\u001b[0m\u001b[1;33m\u001b[0m\u001b[1;33m\u001b[0m\u001b[0m\n\u001b[0m",
      "\u001b[1;32m~\\Sci\\Math\\CompMath\\Python\\MolMod\\MolMod\\MolMod.py\u001b[0m in \u001b[0;36mWriteXYZ\u001b[1;34m(self, output_file, data, matrix_storage, printout, overwrite)\u001b[0m\n\u001b[0;32m     88\u001b[0m \u001b[1;31m##############################################################################################\u001b[0m\u001b[1;33m\u001b[0m\u001b[1;33m\u001b[0m\u001b[1;33m\u001b[0m\u001b[0m\n\u001b[0;32m     89\u001b[0m   \u001b[1;32mdef\u001b[0m \u001b[0mWriteXYZ\u001b[0m \u001b[1;33m(\u001b[0m\u001b[0mself\u001b[0m\u001b[1;33m,\u001b[0m \u001b[0moutput_file\u001b[0m\u001b[1;33m,\u001b[0m \u001b[0mdata\u001b[0m\u001b[1;33m,\u001b[0m \u001b[0mmatrix_storage\u001b[0m\u001b[1;33m=\u001b[0m\u001b[1;32mFalse\u001b[0m\u001b[1;33m,\u001b[0m \u001b[0mprintout\u001b[0m\u001b[1;33m=\u001b[0m\u001b[1;32mFalse\u001b[0m\u001b[1;33m,\u001b[0m \u001b[0moverwrite\u001b[0m\u001b[1;33m=\u001b[0m\u001b[1;32mFalse\u001b[0m \u001b[1;33m)\u001b[0m\u001b[1;33m:\u001b[0m\u001b[1;33m\u001b[0m\u001b[1;33m\u001b[0m\u001b[0m\n\u001b[1;32m---> 90\u001b[1;33m     \u001b[1;32mif\u001b[0m \u001b[0mos\u001b[0m\u001b[1;33m.\u001b[0m\u001b[0mpath\u001b[0m\u001b[1;33m.\u001b[0m\u001b[0misfile\u001b[0m\u001b[1;33m(\u001b[0m\u001b[0moutput_file\u001b[0m\u001b[1;33m)\u001b[0m \u001b[1;32mand\u001b[0m \u001b[1;32mnot\u001b[0m\u001b[1;33m(\u001b[0m\u001b[0moverwrite\u001b[0m\u001b[1;33m)\u001b[0m\u001b[1;33m:\u001b[0m \u001b[1;32mraise\u001b[0m \u001b[0mWarning\u001b[0m\u001b[1;33m(\u001b[0m\u001b[1;34m'File exists: '\u001b[0m\u001b[1;33m+\u001b[0m\u001b[0moutput_file\u001b[0m\u001b[1;33m)\u001b[0m\u001b[1;33m\u001b[0m\u001b[1;33m\u001b[0m\u001b[0m\n\u001b[0m\u001b[0;32m     91\u001b[0m     \u001b[0mstart\u001b[0m \u001b[1;33m=\u001b[0m \u001b[1;36m0\u001b[0m\u001b[1;33m\u001b[0m\u001b[1;33m\u001b[0m\u001b[0m\n\u001b[0;32m     92\u001b[0m     \u001b[0mend\u001b[0m \u001b[1;33m=\u001b[0m \u001b[1;36m0\u001b[0m\u001b[1;33m\u001b[0m\u001b[1;33m\u001b[0m\u001b[0m\n",
      "\u001b[1;31mWarning\u001b[0m: File exists: files/_tmp.xyz"
     ]
    }
   ],
   "source": [
    "mm.WriteXYZ(\"files/_tmp.xyz\",Atoms) # Deliberately wrong"
   ]
  },
  {
   "cell_type": "code",
   "execution_count": 7,
   "metadata": {},
   "outputs": [
    {
     "data": {
      "text/plain": [
       "[['O', 'H', 'H'], array([[ 0.   ,  0.   ,  0.   ],\n",
       "        [ 0.   ,  0.757,  0.586],\n",
       "        [ 0.   , -0.757,  0.586]]), []]"
      ]
     },
     "execution_count": 7,
     "metadata": {},
     "output_type": "execute_result"
    }
   ],
   "source": [
    "mm.ReadXYZ(\"files/xyz1.xyz\",matrix_storage=True)"
   ]
  },
  {
   "cell_type": "code",
   "execution_count": null,
   "metadata": {},
   "outputs": [],
   "source": []
  }
 ],
 "metadata": {
  "anaconda-cloud": {},
  "kernelspec": {
   "display_name": "Python 3",
   "language": "python",
   "name": "python3"
  },
  "language_info": {
   "codemirror_mode": {
    "name": "ipython",
    "version": 3
   },
   "file_extension": ".py",
   "mimetype": "text/x-python",
   "name": "python",
   "nbconvert_exporter": "python",
   "pygments_lexer": "ipython3",
   "version": "3.7.3"
  }
 },
 "nbformat": 4,
 "nbformat_minor": 1
}
