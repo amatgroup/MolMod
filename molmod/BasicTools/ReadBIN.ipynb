{
 "cells": [
  {
   "cell_type": "markdown",
   "metadata": {},
   "source": [
    "This notebook is for testing <strong>ReadBIN</strong> and <strong>WriteBIN</strong> functions. See binary file format description <a href=\"http://zhugayevych.me/soft/bin.htm\">here</a>"
   ]
  },
  {
   "cell_type": "code",
   "execution_count": 1,
   "metadata": {
    "collapsed": false
   },
   "outputs": [],
   "source": [
    "from BasicTools import *\n",
    "bt=BasicTools()"
   ]
  },
  {
   "cell_type": "code",
   "execution_count": 2,
   "metadata": {
    "collapsed": false
   },
   "outputs": [
    {
     "name": "stdout",
     "output_type": "stream",
     "text": [
      "True\n",
      "True\n",
      "True\n",
      "True\n",
      "True\n",
      "True\n"
     ]
    }
   ],
   "source": [
    "# Test read-write consistency\n",
    "f=\"bin\"\n",
    "for ext in [\".evl\",\".evc\",\".s1e\"]:\n",
    "    M=bt.ReadBIN(f+ext)\n",
    "    bt.WriteBIN(\"_tmp.bin\",M, order_of_data='F')\n",
    "    M1=bt.ReadBIN(\"_tmp.bin\",printout=False)\n",
    "    bt.WriteBIN(\"_tmp.bin\",M1,order_of_data='C')\n",
    "    M2 = bt.ReadBIN(\"_tmp.bin\")\n",
    "    print((M1 == M2).all())\n",
    "    print(numpy.array_equal(M,M1))"
   ]
  },
  {
   "cell_type": "code",
   "execution_count": 3,
   "metadata": {
    "collapsed": false
   },
   "outputs": [
    {
     "name": "stdout",
     "output_type": "stream",
     "text": [
      "ReadBIN is working...\n",
      "format id =  1760568055\n",
      "elements type =  2\n",
      "elements size = 8\n",
      "shape = 43\n",
      "bo =  1\n",
      "[10, 10, 2]\n",
      "native\n",
      "float\n",
      "format is  =d\n",
      "[10, 10, 2]\n",
      "True\n"
     ]
    }
   ],
   "source": [
    "# Multidimensional array            \n",
    "D = numpy.random.uniform(0, 1, 200)\n",
    "D = D.reshape([10,10,2], order='F')\n",
    "bt.WriteBIN(\"_tmp.bin\", D, order_of_data='C', byte_ordering='native')\n",
    "D1 = bt.ReadBIN(\"_tmp.bin\",printout=True)\n",
    "print((D==D1).all())"
   ]
  },
  {
   "cell_type": "code",
   "execution_count": 4,
   "metadata": {
    "collapsed": false
   },
   "outputs": [
    {
     "name": "stdout",
     "output_type": "stream",
     "text": [
      "V True\n",
      "M True\n",
      "S True\n"
     ]
    }
   ],
   "source": [
    "# Test arguments of ReadBIN\n",
    "f=\"bin\"\n",
    "V=bt.ReadBIN(f+\".evl\",)\n",
    "V1=bt.ReadBIN(f+\".evl\",code=[2,8,1,1],dimensions=[31])\n",
    "print(\"V\",(V==V1).all())\n",
    "M=bt.ReadBIN(f+\".evc\")\n",
    "M1=bt.ReadBIN(f+\".evc\",code=[2,8,22,1],dimensions=[31,31])\n",
    "print(\"M\",(M==M1).all())\n",
    "S=bt.ReadBIN(f+\".s1e\")\n",
    "S1=bt.ReadBIN(f+\".s1e\", code=[2,8,3,1],dimensions=[31,31])\n",
    "print(\"S\",(S==S1).all())"
   ]
  },
  {
   "cell_type": "code",
   "execution_count": 5,
   "metadata": {
    "collapsed": false
   },
   "outputs": [
    {
     "name": "stdout",
     "output_type": "stream",
     "text": [
      "ReadBIN is working...\n",
      "format id =  1760568055\n",
      "elements type =  2\n",
      "elements size = 8\n",
      "shape = 1\n",
      "bo =  1\n",
      "vector\n",
      "[31]\n",
      "native\n",
      "float\n",
      "format is  =d\n",
      "[31]\n",
      "\n",
      "[1-1]=-522.788480, [2-1]=-521.586832, [-1]=46.626176, sum=-1086.285092\n",
      "\n",
      "\n",
      "ReadBIN is working...\n",
      "format id =  1760568055\n",
      "elements type =  2\n",
      "elements size = 8\n",
      "shape = 22\n",
      "bo =  1\n",
      "matrix\n",
      "F ordered\n",
      "[31, 31]\n",
      "native\n",
      "float\n",
      "format is  =d\n",
      "[31, 31]\n",
      "\n",
      "[1-1,1-1]=0.000047, [2-1,1-1]=-0.000188, [1-1,2-1]=0.000218, [-1,-1]=-0.092279, sum=19.433223\n",
      "\n",
      "\n",
      "ReadBIN is working...\n",
      "format id =  1760568055\n",
      "elements type =  2\n",
      "elements size = 8\n",
      "shape = 3\n",
      "bo =  1\n",
      "symmetric matrix\n",
      "C ordered\n",
      "[31, 31]\n",
      "native\n",
      "float\n",
      "format is  =d\n",
      "[31, 31]\n",
      "\n",
      "[1-1,1-1]=1.000000, [1-1,2-1]=[2-1,1-1]=0.219059, [2-1,2-1]=1.000000, [-1,-1]=1.000000, sum=66.308944\n",
      "\n",
      "\n"
     ]
    }
   ],
   "source": [
    "# Print array elements\n",
    "f=\"bin\"\n",
    "V=bt.ReadBIN(f+\".evl\",printout=True)\n",
    "print('\\n[1-1]=%.6f, [2-1]=%.6f, [-1]=%.6f, sum=%.6f\\n\\n' %(V[1-1],V[2-1],V[-1],numpy.sum(V)))\n",
    "M=bt.ReadBIN(f+\".evc\",printout=True)\n",
    "print('\\n[1-1,1-1]=%.6f, [2-1,1-1]=%.6f, [1-1,2-1]=%.6f, [-1,-1]=%.6f, sum=%.6f\\n\\n' %(M[0,0],M[1,0],M[0,1],M[-1,-1],numpy.sum(M)))\n",
    "S=bt.ReadBIN(f+\".s1e\",printout=True)\n",
    "print('\\n[1-1,1-1]=%.6f, [1-1,2-1]=[2-1,1-1]=%.6f, [2-1,2-1]=%.6f, [-1,-1]=%.6f, sum=%.6f\\n\\n' %(S[0,0],S[0,1],S[1,1],S[-1,-1],numpy.sum(S)))"
   ]
  }
 ],
 "metadata": {
  "anaconda-cloud": {},
  "kernelspec": {
   "display_name": "Python [Root]",
   "language": "python",
   "name": "Python [Root]"
  },
  "language_info": {
   "codemirror_mode": {
    "name": "ipython",
    "version": 3
   },
   "file_extension": ".py",
   "mimetype": "text/x-python",
   "name": "python",
   "nbconvert_exporter": "python",
   "pygments_lexer": "ipython3",
   "version": "3.5.2"
  }
 },
 "nbformat": 4,
 "nbformat_minor": 0
}
