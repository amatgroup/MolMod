{
 "cells": [
  {
   "cell_type": "code",
   "execution_count": 1,
   "metadata": {
    "collapsed": true
   },
   "outputs": [],
   "source": [
    "from MolMod import *\n",
    "mm=MolMod()"
   ]
  },
  {
   "cell_type": "code",
   "execution_count": 2,
   "metadata": {
    "collapsed": false
   },
   "outputs": [
    {
     "name": "stdout",
     "output_type": "stream",
     "text": [
      "The coordinates in standard orientation are found in line 126\n",
      "['C', array([ 0.      ,  0.432859,  0.      ])]\n",
      "['O', array([-1.046289, -0.4532  ,  0.      ])]\n",
      "['O', array([ 1.186318,  0.120154,  0.      ])]\n",
      "['H', array([-0.392427,  1.451216,  0.      ])]\n",
      "['H', array([-0.727806, -1.384003,  0.      ])]\n"
     ]
    }
   ],
   "source": [
    "Atoms=mm.ReadAtoms(\"test/test.out\",printout=True)\n",
    "for a in Atoms: print(a)\n",
    "mm.WriteXYZ(\"_tmp.xyz\",Atoms,overwrite=True)"
   ]
  }
 ],
 "metadata": {
  "anaconda-cloud": {},
  "kernelspec": {
   "display_name": "Python [Root]",
   "language": "python",
   "name": "Python [Root]"
  },
  "language_info": {
   "codemirror_mode": {
    "name": "ipython",
    "version": 3
   },
   "file_extension": ".py",
   "mimetype": "text/x-python",
   "name": "python",
   "nbconvert_exporter": "python",
   "pygments_lexer": "ipython3",
   "version": "3.5.2"
  }
 },
 "nbformat": 4,
 "nbformat_minor": 1
}
